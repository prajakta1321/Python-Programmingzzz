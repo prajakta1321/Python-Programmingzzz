{
  "nbformat": 4,
  "nbformat_minor": 0,
  "metadata": {
    "colab": {
      "provenance": []
    },
    "kernelspec": {
      "name": "python3",
      "display_name": "Python 3"
    },
    "language_info": {
      "name": "python"
    }
  },
  "cells": [
    {
      "cell_type": "code",
      "execution_count": null,
      "metadata": {
        "colab": {
          "base_uri": "https://localhost:8080/"
        },
        "id": "kXGlt2CMyAoR",
        "outputId": "296bcd55-4181-4c6b-fbcf-89c0a9a6655d"
      },
      "outputs": [
        {
          "output_type": "stream",
          "name": "stdout",
          "text": [
            "enter 1st numbers:2\n",
            "enter 2nd number:2\n",
            "sum of 2 numbers is: 4\n"
          ]
        }
      ],
      "source": [
        "# addition\n",
        "\n",
        "a = int(input(\"enter 1st numbers:\"))\n",
        "b = int(input(\"enter 2nd number:\"))\n",
        "\n",
        "sum = a + b\n",
        "print(\"sum of 2 numbers is:\", sum)"
      ]
    },
    {
      "cell_type": "code",
      "source": [
        "# division\n",
        "\n",
        "a = int(input())\n",
        "b = int(input())\n",
        "\n",
        "if b == 0:\n",
        "  print(\"error\")\n",
        "else:\n",
        "  div = a / b\n",
        "  print(\"division is:\", div)"
      ],
      "metadata": {
        "colab": {
          "base_uri": "https://localhost:8080/"
        },
        "id": "zBmbOPwCyj3X",
        "outputId": "1445ee74-a7c1-4f41-9042-8b26d8afcf64"
      },
      "execution_count": null,
      "outputs": [
        {
          "output_type": "stream",
          "name": "stdout",
          "text": [
            "4\n",
            "2\n",
            "division is: 2.0\n"
          ]
        }
      ]
    },
    {
      "cell_type": "code",
      "source": [
        "# to find area of a triangle\n",
        "\n",
        "a = int(input(\"enter base:\"))\n",
        "b = int(input(\"enter height:\"))\n",
        "\n",
        "area = (a*b)/2   # half*base*height\n",
        "\n",
        "print(\"area is:\", area)"
      ],
      "metadata": {
        "colab": {
          "base_uri": "https://localhost:8080/"
        },
        "id": "Lpm7l4_dzQHD",
        "outputId": "1d30c887-7fb2-4612-e982-0501a68b20c0"
      },
      "execution_count": null,
      "outputs": [
        {
          "output_type": "stream",
          "name": "stdout",
          "text": [
            "enter base:5\n",
            "enter height:4\n",
            "area is: 10.0\n"
          ]
        }
      ]
    },
    {
      "cell_type": "code",
      "source": [
        "# to swap two variables\n",
        "\n",
        "a = int(input())\n",
        "b = int(input())\n",
        "\n",
        "c = a\n",
        "a = b\n",
        "b = c\n",
        "\n",
        "print(\"swapped vriables are:\",a,b)"
      ],
      "metadata": {
        "colab": {
          "base_uri": "https://localhost:8080/"
        },
        "id": "mtEZQsJvz7qS",
        "outputId": "4f799eb6-6e68-45ba-b87b-b7635d46e0ad"
      },
      "execution_count": null,
      "outputs": [
        {
          "output_type": "stream",
          "name": "stdout",
          "text": [
            "2\n",
            "3\n",
            "swapped vriables are: 3 2\n"
          ]
        }
      ]
    },
    {
      "cell_type": "code",
      "source": [
        "# to generate a random number\n",
        "\n",
        "import random\n",
        "print(\"random number is :\", {random.randint(10,20)})"
      ],
      "metadata": {
        "colab": {
          "base_uri": "https://localhost:8080/"
        },
        "id": "pvmGf1eP0eYS",
        "outputId": "c46d4fc2-aaab-4a7a-c1a5-1929924502a9"
      },
      "execution_count": null,
      "outputs": [
        {
          "output_type": "stream",
          "name": "stdout",
          "text": [
            "random number is : {14}\n"
          ]
        }
      ]
    },
    {
      "cell_type": "code",
      "source": [
        "# to convert kilometers to miles\n",
        "\n",
        "km = int(input(\"enter km:\"))\n",
        "\n",
        "a = km * 0.621\n",
        "\n",
        "print(\"the equivalent km is equal to:\", a)"
      ],
      "metadata": {
        "colab": {
          "base_uri": "https://localhost:8080/"
        },
        "id": "j0MElWg40317",
        "outputId": "c040e041-df5b-4db7-846d-58ac8739f798"
      },
      "execution_count": null,
      "outputs": [
        {
          "output_type": "stream",
          "name": "stdout",
          "text": [
            "enter km:2\n",
            "the equivalent km is equal to: 1.242\n"
          ]
        }
      ]
    },
    {
      "cell_type": "code",
      "source": [
        "# convert celsius to fahrenheit\n",
        "\n",
        "c = int(input(\"enter the temp in celcius:\"))\n",
        "\n",
        "f = (c* 9/5) + 32\n",
        "\n",
        "print(\"celcius temp in fahrenheit is:\", f)"
      ],
      "metadata": {
        "colab": {
          "base_uri": "https://localhost:8080/"
        },
        "id": "TdBjdp8nvnHv",
        "outputId": "d4922d60-c9c5-4456-a7b4-0abacafec0fb"
      },
      "execution_count": null,
      "outputs": [
        {
          "output_type": "stream",
          "name": "stdout",
          "text": [
            "enter the temp in celcius:2\n",
            "celcius temp in fahrenheit is: 35.6\n"
          ]
        }
      ]
    },
    {
      "cell_type": "code",
      "source": [
        "# display calendar\n",
        "\n",
        "import calendar\n",
        "\n",
        "month = int(input(\"enter month:\"))\n",
        "year = int(input(\"enter year:\"))\n",
        "\n",
        "cal = calendar.month(year, month)\n",
        "\n",
        "print(\"the calendar is:\", cal)"
      ],
      "metadata": {
        "colab": {
          "base_uri": "https://localhost:8080/"
        },
        "id": "LOiAspEZv-Af",
        "outputId": "4e4f254c-07a3-4a54-807a-d7815212cff4"
      },
      "execution_count": null,
      "outputs": [
        {
          "output_type": "stream",
          "name": "stdout",
          "text": [
            "enter month:2\n",
            "enter year:2001\n",
            "the calendar is:    February 2001\n",
            "Mo Tu We Th Fr Sa Su\n",
            "          1  2  3  4\n",
            " 5  6  7  8  9 10 11\n",
            "12 13 14 15 16 17 18\n",
            "19 20 21 22 23 24 25\n",
            "26 27 28\n",
            "\n"
          ]
        }
      ]
    },
    {
      "cell_type": "code",
      "source": [
        "# to solve quadratic equation\n",
        "\n",
        "import math\n",
        "a = float(input(\"enter coefficient a:\"))\n",
        "b = float(input(\"enter coefficient b:\"))\n",
        "c = float(input(\"enter coefficient c:\"))\n",
        "\n",
        "d = b**2 - 4*a*c    # d is discriminant\n",
        "\n",
        "if d > 0:\n",
        "  r1 = (-b + math.sqrt(d)) / (2*a)\n",
        "  print(\"root 1:\", r1)\n",
        "  r2 = (-b - math.sqrt(d)) / (2*a)\n",
        "  print(\"root 2:\", r2)\n",
        "elif d == 0 :\n",
        "  r1 = -b / (2*a)\n",
        "  print(\"root is:\", r1)\n",
        "else:\n",
        "  realpart = -b / (2*a)\n",
        "  imgpart = math.sqrt(abs(d)) / (2*a)\n",
        "  print(\"root 1:\", realpart, \"+\", imgpart, \"i\")\n",
        "  print(\"root 2:\", realpart, \"-\", imgpart, \"i\")\n"
      ],
      "metadata": {
        "colab": {
          "base_uri": "https://localhost:8080/"
        },
        "id": "qyXwWPavwfz4",
        "outputId": "4fed4e35-21b6-47e4-b56e-83f662c9a8b9"
      },
      "execution_count": null,
      "outputs": [
        {
          "output_type": "stream",
          "name": "stdout",
          "text": [
            "enter coefficient a:2\n",
            "enter coefficient b:4\n",
            "enter coefficient c:8\n",
            "root 1: -1.0 + 1.7320508075688772 i\n",
            "root 2: -1.0 - 1.7320508075688772 i\n"
          ]
        }
      ]
    },
    {
      "cell_type": "code",
      "source": [
        "# swap 2 variables without temp variable\n",
        "\n",
        "a = int(input())\n",
        "b = int(input())\n",
        "\n",
        "print(\"before swapping the vairables are:\", a,b)\n",
        "a,b = b,a\n",
        "print(\"after swapping the variables are:\", a,b)"
      ],
      "metadata": {
        "colab": {
          "base_uri": "https://localhost:8080/"
        },
        "id": "0EXnIVqux7DY",
        "outputId": "cd23420c-1dc6-4853-910c-d845e6a876b2"
      },
      "execution_count": null,
      "outputs": [
        {
          "output_type": "stream",
          "name": "stdout",
          "text": [
            "5\n",
            "8\n",
            "before swapping the vairables are: 5 8\n",
            "after swapping the variables are: 8 5\n"
          ]
        }
      ]
    },
    {
      "cell_type": "code",
      "source": [
        "# swap 2 variables without temp variable\n",
        "# method 2\n",
        "\n",
        "a = int(input())   # 5\n",
        "b = int(input())   # 8\n",
        "\n",
        "print(\"before swapping the vairables are:\", a,b)\n",
        "\n",
        "a = a+b    #  a = 5 + 8 = 13\n",
        "b = a-b    # b = 13 - 8 = 5   # a gets current value\n",
        "a = a-b    # a = 13 -  5 = 8\n",
        "print(\"after swapping the variables are:\", a,b)"
      ],
      "metadata": {
        "colab": {
          "base_uri": "https://localhost:8080/"
        },
        "id": "9_9cjQxZzKGU",
        "outputId": "495b422c-5586-415e-e1bc-9154c69f7b8d"
      },
      "execution_count": null,
      "outputs": [
        {
          "output_type": "stream",
          "name": "stdout",
          "text": [
            "5\n",
            "8\n",
            "before swapping the vairables are: 5 8\n",
            "after swapping the variables are: 8 5\n"
          ]
        }
      ]
    },
    {
      "cell_type": "code",
      "source": [
        "# check leap year\n",
        "\n",
        "a = int(input(\"enter the year:\"))\n",
        "\n",
        "if a%4 == 0:\n",
        "  print(\"leap year\")\n",
        "else:\n",
        "  print(\"not a leap year\")"
      ],
      "metadata": {
        "colab": {
          "base_uri": "https://localhost:8080/"
        },
        "id": "yjsaMv1sSr98",
        "outputId": "0253a8c8-92f1-4c9f-a95d-3800a09783c1"
      },
      "execution_count": null,
      "outputs": [
        {
          "output_type": "stream",
          "name": "stdout",
          "text": [
            "enter the year:2044\n",
            "leap year\n"
          ]
        }
      ]
    },
    {
      "cell_type": "code",
      "source": [
        "# check prime number\n",
        "\n",
        "a = int(input(\"enter prime number:\"))\n",
        "b = False\n",
        "\n",
        "if a ==1 or a < 0 :\n",
        "  print(\"not a prime number\")\n",
        "  b = True\n",
        "elif a > 1:\n",
        "  for i in range (2,a):\n",
        "    if a%i == 0:\n",
        "      print(\"not prime\")\n",
        "      b = True\n",
        "      break\n",
        "if not b :\n",
        "  print(\"prime number\")"
      ],
      "metadata": {
        "colab": {
          "base_uri": "https://localhost:8080/"
        },
        "id": "209YtfPATLCq",
        "outputId": "f5934168-a95f-4feb-bd69-fc7ec391c8d7"
      },
      "execution_count": null,
      "outputs": [
        {
          "output_type": "stream",
          "name": "stdout",
          "text": [
            "enter prime number:-9\n",
            "not a prime number\n"
          ]
        }
      ]
    },
    {
      "cell_type": "code",
      "source": [
        "# print all prime numbers in an interval of 1-10\n",
        "\n",
        "a = int(input(\"enter lower number:\"))  #1\n",
        "b = int(input(\"enter upper number:\"))   # 10\n",
        "\n",
        "for num in range(a, b+1):  # 1, 11\n",
        "  if num > 1:                # num > 1\n",
        "    for i in range(2, num):    # (2,num)\n",
        "      if num%i == 0:\n",
        "        break\n",
        "    else:\n",
        "      print(num)\n",
        "\n"
      ],
      "metadata": {
        "colab": {
          "base_uri": "https://localhost:8080/"
        },
        "id": "A1mxJp0tVmHR",
        "outputId": "4e239137-6bcc-4557-879a-2de24c6b2e28"
      },
      "execution_count": null,
      "outputs": [
        {
          "output_type": "stream",
          "name": "stdout",
          "text": [
            "enter lower number:1\n",
            "enter upper number:10\n",
            "2\n",
            "3\n",
            "5\n",
            "7\n"
          ]
        }
      ]
    },
    {
      "cell_type": "code",
      "source": [
        "# find factorial of a number\n",
        "\n",
        "num  = int(input(\"enter number:\"))\n",
        "fact = 1\n",
        "\n",
        "if num < 0 :\n",
        "  print(\"factorial of -ve number doesnt exist\")\n",
        "elif num == 0:\n",
        "  print(\"factorial of 0 is 1\")\n",
        "else:\n",
        "  for i in range(1, num+1):\n",
        "    fact = fact * i\n",
        "\n",
        "  print(\"factorial is:\", fact)"
      ],
      "metadata": {
        "colab": {
          "base_uri": "https://localhost:8080/"
        },
        "id": "cXO6iM-UW1sq",
        "outputId": "fa3b9519-3469-4f09-c550-90312637666e"
      },
      "execution_count": null,
      "outputs": [
        {
          "output_type": "stream",
          "name": "stdout",
          "text": [
            "enter number:5\n",
            "factorial is: 120\n"
          ]
        }
      ]
    },
    {
      "cell_type": "code",
      "source": [
        "# display multiplication table\n",
        "\n",
        "a = int(input(\"enter a number:\"))\n",
        "\n",
        "for i in range(1,11):\n",
        "  print(a, \"x\", i, \"=\", a*i)\n"
      ],
      "metadata": {
        "colab": {
          "base_uri": "https://localhost:8080/"
        },
        "id": "gw3trfq_XUPS",
        "outputId": "fd3041b0-c6ba-4006-8a22-725732d9cedf"
      },
      "execution_count": null,
      "outputs": [
        {
          "output_type": "stream",
          "name": "stdout",
          "text": [
            "enter a number:9\n",
            "9 x 1 = 9\n",
            "9 x 2 = 18\n",
            "9 x 3 = 27\n",
            "9 x 4 = 36\n",
            "9 x 5 = 45\n",
            "9 x 6 = 54\n",
            "9 x 7 = 63\n",
            "9 x 8 = 72\n",
            "9 x 9 = 81\n",
            "9 x 10 = 90\n"
          ]
        }
      ]
    },
    {
      "cell_type": "code",
      "source": [
        "# to print the fibonacci series\n",
        "\n",
        "a = int(input(\"enter a number:\"))\n",
        "\n",
        "b = 0\n",
        "c = 1\n",
        "\n",
        "for i in range(a):\n",
        "    print(b)\n",
        "    b, c = c, b + c"
      ],
      "metadata": {
        "colab": {
          "base_uri": "https://localhost:8080/"
        },
        "id": "fKaBu1NbHemp",
        "outputId": "4d00c9d3-e4b6-434d-926e-adeb69081c8a"
      },
      "execution_count": null,
      "outputs": [
        {
          "output_type": "stream",
          "name": "stdout",
          "text": [
            "enter a number:10\n",
            "0\n",
            "1\n",
            "1\n",
            "2\n",
            "3\n",
            "5\n",
            "8\n",
            "13\n",
            "21\n",
            "34\n"
          ]
        }
      ]
    },
    {
      "cell_type": "code",
      "source": [
        "# to check armstrong number\n",
        "\n",
        "def is_armstrong(a):\n",
        "    num_str = str(a)\n",
        "    num_length = len(num_str)\n",
        "    sum_of_powers = 0\n",
        "\n",
        "    for digit in num_str:\n",
        "        sum_of_powers += int(digit) ** num_length\n",
        "    return sum_of_powers == a\n",
        "\n",
        "a = int(input(\"Enter a number: \"))\n",
        "\n",
        "if is_armstrong(a):\n",
        "    print(a, \"is an Armstrong number.\")\n",
        "else:\n",
        "    print(a, \"is not an Armstrong number.\")\n"
      ],
      "metadata": {
        "colab": {
          "base_uri": "https://localhost:8080/"
        },
        "id": "6pr1ChLULkbG",
        "outputId": "757d4853-3e71-4996-924f-98066f3b77b2"
      },
      "execution_count": null,
      "outputs": [
        {
          "output_type": "stream",
          "name": "stdout",
          "text": [
            "Enter a number: 9474\n",
            "9474 is an Armstrong number.\n"
          ]
        }
      ]
    },
    {
      "cell_type": "code",
      "source": [
        "# find the sum of natural numbers\n",
        "\n",
        "a = int(input())\n",
        "sum = 0\n",
        "\n",
        "for i in range(1, a+1):\n",
        "  sum = sum + i\n",
        "print(\"sum is:\",sum)"
      ],
      "metadata": {
        "colab": {
          "base_uri": "https://localhost:8080/"
        },
        "id": "tX1sUAL4MmHe",
        "outputId": "51319456-c78d-4d88-edc1-42c4873a8c35"
      },
      "execution_count": null,
      "outputs": [
        {
          "output_type": "stream",
          "name": "stdout",
          "text": [
            "20\n",
            "sum is: 210\n"
          ]
        }
      ]
    }
  ]
}