{
  "nbformat": 4,
  "nbformat_minor": 0,
  "metadata": {
    "colab": {
      "provenance": []
    },
    "kernelspec": {
      "name": "python3",
      "display_name": "Python 3"
    },
    "language_info": {
      "name": "python"
    }
  },
  "cells": [
    {
      "cell_type": "code",
      "execution_count": null,
      "metadata": {
        "colab": {
          "base_uri": "https://localhost:8080/"
        },
        "id": "ogfkGKOvXniw",
        "outputId": "2c5acae2-3ce2-4571-b691-d7481cb2ffc7"
      },
      "outputs": [
        {
          "output_type": "stream",
          "name": "stdout",
          "text": [
            " enter the number of elements:4\n",
            "enter the elements on each line:0\n",
            "enter the elements on each line:1\n",
            "enter the elements on each line:2\n",
            "enter the elements on each line:3\n",
            "[0, 1, 2, 3]\n",
            "the last element of list is: 3\n"
          ]
        }
      ],
      "source": [
        "\"\"\"\n",
        "1. Take in the number of elements and store it in a variable.\n",
        "2. Take in the elements of the list one by one.\n",
        "3. Sort the list in ascending order.\n",
        "4. Print the last element of the list.\n",
        "5. Exit.\n",
        "\"\"\"\n",
        "\n",
        "a = []\n",
        "b = int(input(\" enter the number of elements:\"))\n",
        "\n",
        "for i in range(b):\n",
        "  c = int(input(\"enter the elements on each line:\"))\n",
        "  a.append(c)\n",
        "\n",
        "a.sort()\n",
        "print(a)\n",
        "print(\"the last element of list is:\", a[b-1])\n"
      ]
    },
    {
      "cell_type": "code",
      "source": [
        "a = []\n",
        "b = int(input(\" enter the number of elements:\"))\n",
        "\n",
        "for i in range(1, b+1):    # numbers 1 to b\n",
        "  c = int(input(\"enter the elements on each line:\"))\n",
        "  a.append(c)\n",
        "\n",
        "a.sort()\n",
        "print(a)\n",
        "print(\"the last element of list is:\", a[b-1])"
      ],
      "metadata": {
        "colab": {
          "base_uri": "https://localhost:8080/"
        },
        "id": "Kc--c5hYadk_",
        "outputId": "28f79325-f12f-47a4-c567-1e1c9200598f"
      },
      "execution_count": null,
      "outputs": [
        {
          "output_type": "stream",
          "name": "stdout",
          "text": [
            " enter the number of elements:3\n",
            "enter the elements on each line:0\n",
            "enter the elements on each line:1\n",
            "enter the elements on each line:2\n",
            "[0, 1, 2]\n",
            "the last element of list is: 2\n"
          ]
        }
      ]
    },
    {
      "cell_type": "code",
      "source": [
        "\"\"\"\n",
        "1. Take in the number of elements and store it in a variable.\n",
        "2. Take in the elements of the list one by one.\n",
        "3. Sort the list in ascending order.\n",
        "4. Print the second last element of the list.\n",
        "5. Exit.\n",
        "\"\"\"\n",
        "\n",
        "a = []\n",
        "b = int(input(\" enter the number of elements:\"))\n",
        "\n",
        "for i in range(1, b+1):    # numbers 1 to b\n",
        "  c = int(input(\"enter the elements on each line:\"))\n",
        "  a.append(c)\n",
        "\n",
        "a.sort()\n",
        "print(a)\n",
        "print(\"the last element of list is:\", a[b-2])"
      ],
      "metadata": {
        "colab": {
          "base_uri": "https://localhost:8080/"
        },
        "id": "v9Ga2WmkeDQg",
        "outputId": "a65345aa-a407-41b1-8d6c-2ede57ea4735"
      },
      "execution_count": null,
      "outputs": [
        {
          "output_type": "stream",
          "name": "stdout",
          "text": [
            " enter the number of elements:4\n",
            "enter the elements on each line:0\n",
            "enter the elements on each line:1\n",
            "enter the elements on each line:2\n",
            "enter the elements on each line:3\n",
            "[0, 1, 2, 3]\n",
            "the last element of list is: 2\n"
          ]
        }
      ]
    },
    {
      "cell_type": "code",
      "source": [
        "\"\"\"\n",
        "1. Take the number of elements to be stored in the list as input.\n",
        "2. Use a for loop to input elements into the list.\n",
        "3. Calculate the total sum of elements in the list.\n",
        "4. Divide the sum by total number of elements in the list.\n",
        "5. Exit.\n",
        "\"\"\"\n",
        "a = int(input(\"enter no of elements:\"))\n",
        "b = []\n",
        "\n",
        "for i in range(a):\n",
        "  c = int(input(\"enter an element on each line\"))\n",
        "  b.append(c)\n",
        "\n",
        "total = sum(b)\n",
        "avg = total / len(b)\n",
        "print(avg)\n",
        "print(b)"
      ],
      "metadata": {
        "colab": {
          "base_uri": "https://localhost:8080/"
        },
        "id": "FdjmhwYNeXqn",
        "outputId": "623d627c-9c5a-45c5-d2f3-79b8460293ae"
      },
      "execution_count": null,
      "outputs": [
        {
          "output_type": "stream",
          "name": "stdout",
          "text": [
            "3\n",
            "1\n",
            "2\n",
            "3\n",
            "2.0\n",
            "[1, 2, 3]\n"
          ]
        }
      ]
    },
    {
      "cell_type": "code",
      "source": [
        "\"\"\"\n",
        "1. Take in the number of elements to be in the list from the user.\n",
        "2. Take in the elements from the user using a for loop and append to a list.\n",
        "3. Using a for loop, get the elements one by one from the list and check\n",
        "if it odd or even and append them to different lists.\n",
        "4. Sort both the lists individually and get the length of each list.\n",
        "5. Print the last elements of the sorted lists.\n",
        "6. Exit.\n",
        "\"\"\"\n",
        "\n",
        "a = int(input(\"enter number of elements to be in the list:\"))\n",
        "b = []\n",
        "\n",
        "for i in range (a):\n",
        "  a = int(input(\"element:\"))\n",
        "  b.append(a)\n",
        "\n",
        "c = []\n",
        "d = []\n",
        "\n",
        "for i in b:\n",
        "  if i%2 ==0:\n",
        "    c.append(i)\n",
        "  else:\n",
        "    d.append(i)\n",
        "\n",
        "c.sort()\n",
        "d.sort()\n",
        "\n",
        "count1 = 0\n",
        "count2 = 0\n",
        "\n",
        "for k in c:\n",
        "  count1 = count1 + 1\n",
        "\n",
        "for j in d :\n",
        "  count2 = count2 + 1\n",
        "\n",
        "\n",
        "print(\"largest even number :\", c[count1-1])\n",
        "print(\"largest odd number :\", c[count2-1])"
      ],
      "metadata": {
        "id": "6Q3QdcOC_OhD"
      },
      "execution_count": null,
      "outputs": []
    },
    {
      "cell_type": "code",
      "source": [
        "\"\"\"\n",
        "1. Take in the number of elements and store it in a variable.\n",
        "2. Take in the elements of the list one by one.\n",
        "3. Use a for loop to traverse through the elements of the list and an if statement to check if the element is even or odd.\n",
        "4. If the element is even, append it to a separate list and if it is odd, append it to a different one.\n",
        "5. Display the elements in both the lists.\n",
        "6. Exit.\n",
        "\"\"\"\n",
        "\n",
        "a = int(input(\"enter the number of elements:\"))\n",
        "b =[]\n",
        "d=[]\n",
        "\n",
        "for i in range(a):\n",
        "  if a%2 ==0:\n",
        "    b.append(i)\n",
        "  else:\n",
        "    d.append(i)\n",
        "\n",
        "  print(b)\n",
        "  print(d)"
      ],
      "metadata": {
        "colab": {
          "base_uri": "https://localhost:8080/"
        },
        "id": "ZcgTgjDMNTA9",
        "outputId": "b5a70047-db5c-4a8f-e3a9-7059eb52a4f5"
      },
      "execution_count": null,
      "outputs": [
        {
          "output_type": "stream",
          "name": "stdout",
          "text": [
            "enter the number of elements:3\n",
            "[]\n",
            "[0]\n",
            "[]\n",
            "[0, 1]\n",
            "[]\n",
            "[0, 1, 2]\n"
          ]
        }
      ]
    },
    {
      "cell_type": "code",
      "source": [
        "from re import I\n",
        "\"\"\"\n",
        "1. Take in the number of elements to be in the list from the user.\n",
        "2. Take in the elements from the user using a for loop and append to a list.\n",
        "3. Using a for loop, get the elements one by one from the list and check if it is positive or negative.\n",
        "4. If it is positive, check if it is odd or even and find the individual sum.\n",
        "5. Find the individual sum of negative numbers.\n",
        "6. Print all the sums.\n",
        "7. Exit.\n",
        "\"\"\"\n",
        "\n",
        "a = int(input(\"enter the numebr of elements:\"))\n",
        "b = []\n",
        "\n",
        "for i in range (a):\n",
        "  a = int(input(\"enter the elements:\"))\n",
        "  b.append(a)\n",
        "\n",
        "c =[]\n",
        "d =[]\n",
        "sum1 = 0\n",
        "sum2 = 0\n",
        "sum3 = 0\n",
        "\n",
        "\n",
        "for i in b:\n",
        "  if(i>0):\n",
        "    if i%2 ==0:\n",
        "      sum1 = sum1 + i\n",
        "    else:\n",
        "      sum2 = sum2 + i\n",
        "  else:\n",
        "    sum3 = sum3 + i\n",
        "\n",
        "print(sum1)\n",
        "print(sum2)\n",
        "print(sum3)\n",
        "\n"
      ],
      "metadata": {
        "colab": {
          "base_uri": "https://localhost:8080/"
        },
        "id": "cERiNnXSuC0I",
        "outputId": "7971014e-e7b7-4de5-9117-0d91a93bcb63"
      },
      "execution_count": null,
      "outputs": [
        {
          "output_type": "stream",
          "name": "stdout",
          "text": [
            "enter the numebr of elements:4\n",
            "enter the elements:-12\n",
            "enter the elements:34\n",
            "enter the elements:35\n",
            "enter the elements:89\n",
            "34\n",
            "124\n",
            "-12\n"
          ]
        }
      ]
    },
    {
      "cell_type": "code",
      "source": [
        "\"\"\"\n",
        "1. Take in the number of elements for the first list and store it in a variable.\n",
        "2. Take in the elements of the list one by one.\n",
        "3. Then take in the number to be searched in the list.\n",
        "4. Use a for loop to traverse through the elements in the list and increment the count variable.\n",
        "5. Display the value of the count variable which contains the number of times a particular number occurs in a list.\n",
        "6. Exit.\n",
        "\"\"\"\n",
        "\n",
        "a = int(input(\"enter the number of elements:\"))\n",
        "b = []\n",
        "\n",
        "for i in range (a):\n",
        "  c = int(input(\"enter the elements:\"))\n",
        "  b.append(c)\n",
        "\n",
        "d = int(input(\"enter the number to be searched:\"))\n",
        "count = 0\n",
        "\n",
        "for i in b:\n",
        "  if i ==d:\n",
        "    count = count + d\n",
        "\n",
        "print(count)\n",
        "\n"
      ],
      "metadata": {
        "colab": {
          "base_uri": "https://localhost:8080/"
        },
        "id": "xeA9SgLIBzDj",
        "outputId": "d59c908f-d1af-4889-ca09-19c36498155a"
      },
      "execution_count": null,
      "outputs": [
        {
          "output_type": "stream",
          "name": "stdout",
          "text": [
            "enter the number of elements:3\n",
            "enter the elements:1\n",
            "enter the elements:2\n",
            "enter the elements:3\n",
            "enter the number to be searched:2\n",
            "2\n"
          ]
        }
      ]
    }
  ]
}