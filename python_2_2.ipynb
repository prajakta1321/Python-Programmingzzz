{
  "nbformat": 4,
  "nbformat_minor": 0,
  "metadata": {
    "colab": {
      "provenance": []
    },
    "kernelspec": {
      "name": "python3",
      "display_name": "Python 3"
    },
    "language_info": {
      "name": "python"
    }
  },
  "cells": [
    {
      "cell_type": "code",
      "execution_count": null,
      "metadata": {
        "colab": {
          "base_uri": "https://localhost:8080/"
        },
        "id": "VdaFJ_pkE8wJ",
        "outputId": "3b385c7e-dcb9-4fd2-88dc-9ef585dfb663"
      },
      "outputs": [
        {
          "output_type": "stream",
          "name": "stdout",
          "text": [
            "enter 1st number:54\n",
            "enter 2nd number:24\n",
            "lcm of 54 and 24 is 216\n"
          ]
        }
      ],
      "source": [
        "# to find LCM of two number\n",
        "\n",
        "# LCM = (a*b)/GCD\n",
        "\n",
        "def computelcm(a,b):\n",
        "  if a > b :\n",
        "    greater = a\n",
        "  else:\n",
        "    greater  = b\n",
        "\n",
        "  while(True):\n",
        "    if(greater % a ==0) and (greater%b ==0):\n",
        "      lcm = greater\n",
        "      break\n",
        "    greater += 1\n",
        "  return lcm\n",
        "\n",
        "\n",
        "a = int(input(\"enter 1st number:\"))\n",
        "b = int(input(\"enter 2nd number:\"))\n",
        "\n",
        "print(\"lcm of\",a,\"and\",b,\"is\",computelcm(a,b))\n"
      ]
    },
    {
      "cell_type": "code",
      "source": [
        "# to find HCF of two number\n",
        "\n",
        "# HCF =GCD(a,b)\n",
        "\n",
        "def computehcf(a,b):\n",
        "  if a > b :\n",
        "    smaller = b\n",
        "  else:\n",
        "    smaller  = a\n",
        "\n",
        "  for i in range(1, smaller+1):\n",
        "    if(a % i ==0) and (b % i ==0):\n",
        "      hcf = i\n",
        "      break\n",
        "  return hcf\n",
        "\n",
        "\n",
        "a = int(input(\"enter 1st number:\"))\n",
        "b = int(input(\"enter 2nd number:\"))\n",
        "\n",
        "print(\"hcf of\",a,\"and\",b,\"is\",computehcf(a,b))\n"
      ],
      "metadata": {
        "colab": {
          "base_uri": "https://localhost:8080/"
        },
        "id": "MEr1AjwOKBlY",
        "outputId": "7cdf8203-145f-4d59-bba4-65a06ee16616"
      },
      "execution_count": null,
      "outputs": [
        {
          "output_type": "stream",
          "name": "stdout",
          "text": [
            "enter 1st number:54\n",
            "enter 2nd number:24\n",
            "hcf of 54 and 24 is 1\n"
          ]
        }
      ]
    },
    {
      "cell_type": "code",
      "source": [
        "# program to convert decimal to binary\n",
        "\n",
        "a = int(input(\"enter a number:\"))\n",
        "\n",
        "b = bin(a)\n",
        "\n",
        "print(\"binary of\",a,\"is\", b)"
      ],
      "metadata": {
        "colab": {
          "base_uri": "https://localhost:8080/"
        },
        "id": "AgIwgUOLyOD1",
        "outputId": "01d42504-c3ee-4784-9ca2-298f648186cb"
      },
      "execution_count": null,
      "outputs": [
        {
          "output_type": "stream",
          "name": "stdout",
          "text": [
            "enter a number:11\n",
            "binary of 11 is 0b1011\n"
          ]
        }
      ]
    },
    {
      "cell_type": "code",
      "source": [
        "# decimal to octal\n",
        "\n",
        "a = int(input(\"enter a number:\"))\n",
        "\n",
        "b = oct(a)\n",
        "\n",
        "print(\"octal of\",a,\"is\", b)"
      ],
      "metadata": {
        "colab": {
          "base_uri": "https://localhost:8080/"
        },
        "id": "T31srwbvyxjS",
        "outputId": "fc22ca20-6eeb-43f2-a794-303da7fc15f3"
      },
      "execution_count": null,
      "outputs": [
        {
          "output_type": "stream",
          "name": "stdout",
          "text": [
            "enter a number:11\n",
            "octal of 11 is 0o13\n"
          ]
        }
      ]
    },
    {
      "cell_type": "code",
      "source": [
        "# deicmal to hexadecimal\n",
        "\n",
        "a = int(input(\"enter a number:\"))\n",
        "\n",
        "b = hex(a)\n",
        "\n",
        "print(\"hexadecimal of\",a,\"is\", b)"
      ],
      "metadata": {
        "colab": {
          "base_uri": "https://localhost:8080/"
        },
        "id": "lePSfu83y7Vq",
        "outputId": "abfec97b-ba52-471e-9300-79d0df141b05"
      },
      "execution_count": null,
      "outputs": [
        {
          "output_type": "stream",
          "name": "stdout",
          "text": [
            "enter a number:11\n",
            "hexadecimal of 11 is 0xb\n"
          ]
        }
      ]
    },
    {
      "cell_type": "code",
      "source": [
        "# program to find ASCII valuse of a character\n",
        "\n",
        "p = input(\"enter a character:\")\n",
        "\n",
        "q = ord(p)\n",
        "\n",
        "print(\"ascii of\",p,\"is\",q)"
      ],
      "metadata": {
        "colab": {
          "base_uri": "https://localhost:8080/"
        },
        "id": "fzHodPmczH4_",
        "outputId": "edb542ca-4190-4951-b408-f688ac40869a"
      },
      "execution_count": null,
      "outputs": [
        {
          "output_type": "stream",
          "name": "stdout",
          "text": [
            "enter a character:q\n",
            "ascii of q is 113\n"
          ]
        }
      ]
    },
    {
      "cell_type": "code",
      "source": [
        "# natural logarithm of any number\n",
        "\n",
        "import math\n",
        "l = float(input(\"enter a number:\"))\n",
        "\n",
        "\n",
        "if l < 0:\n",
        "  print(\"enter a positive number\")\n",
        "else:\n",
        "  m = math.log(l)\n",
        "  print(\"natural log of\",l,\"is\",m)\n"
      ],
      "metadata": {
        "id": "ruln8a0Kzbre",
        "colab": {
          "base_uri": "https://localhost:8080/"
        },
        "outputId": "caa4e198-e5df-486f-8983-bc98d61f8f36"
      },
      "execution_count": null,
      "outputs": [
        {
          "output_type": "stream",
          "name": "stdout",
          "text": [
            "enter a number:3.2\n",
            "natural log of 3.2 is 1.1631508098056809\n"
          ]
        }
      ]
    }
  ]
}