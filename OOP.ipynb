{
  "nbformat": 4,
  "nbformat_minor": 0,
  "metadata": {
    "colab": {
      "provenance": []
    },
    "kernelspec": {
      "name": "python3",
      "display_name": "Python 3"
    },
    "language_info": {
      "name": "python"
    }
  },
  "cells": [
    {
      "cell_type": "code",
      "execution_count": null,
      "metadata": {
        "id": "6065ZcO-K3vV"
      },
      "outputs": [],
      "source": [
        "class item :\n",
        "  pass\n",
        "\n",
        "item1 = item()\n",
        "random_string = str(\"4\")"
      ]
    },
    {
      "cell_type": "code",
      "source": [
        "item1.name = \"book\"\n",
        "item1.price = 50\n",
        "item1.quantity = 4"
      ],
      "metadata": {
        "id": "O9Fm5-LdOoq1"
      },
      "execution_count": null,
      "outputs": []
    },
    {
      "cell_type": "code",
      "source": [
        "print(type(item1))"
      ],
      "metadata": {
        "colab": {
          "base_uri": "https://localhost:8080/"
        },
        "id": "_VFXkq5POzy0",
        "outputId": "de2df7c6-6af9-47a9-d264-93eeb85289c5"
      },
      "execution_count": null,
      "outputs": [
        {
          "output_type": "stream",
          "name": "stdout",
          "text": [
            "<class '__main__.item'>\n"
          ]
        }
      ]
    },
    {
      "cell_type": "code",
      "source": [
        "print(type(item1.name))"
      ],
      "metadata": {
        "colab": {
          "base_uri": "https://localhost:8080/"
        },
        "id": "dQ9oKUdGO2_V",
        "outputId": "94d01250-fbf4-4d33-83c8-79880968f8f1"
      },
      "execution_count": null,
      "outputs": [
        {
          "output_type": "stream",
          "name": "stdout",
          "text": [
            "<class 'str'>\n"
          ]
        }
      ]
    },
    {
      "cell_type": "code",
      "source": [
        "print(type(item1.price))"
      ],
      "metadata": {
        "colab": {
          "base_uri": "https://localhost:8080/"
        },
        "id": "xTHO7t0BO8PT",
        "outputId": "6d05cc0e-97aa-40c1-98a0-ea9f69e09bc3"
      },
      "execution_count": null,
      "outputs": [
        {
          "output_type": "stream",
          "name": "stdout",
          "text": [
            "<class 'int'>\n"
          ]
        }
      ]
    },
    {
      "cell_type": "code",
      "source": [
        "print(type(item1.quantity))"
      ],
      "metadata": {
        "colab": {
          "base_uri": "https://localhost:8080/"
        },
        "id": "AJI2cZLXO-p6",
        "outputId": "69673087-c71b-4f9f-87a2-f3ba31d1342f"
      },
      "execution_count": null,
      "outputs": [
        {
          "output_type": "stream",
          "name": "stdout",
          "text": [
            "<class 'int'>\n"
          ]
        }
      ]
    },
    {
      "cell_type": "code",
      "source": [
        "random_string = \"ane\"\n",
        "print(random_string.upper())"
      ],
      "metadata": {
        "colab": {
          "base_uri": "https://localhost:8080/"
        },
        "id": "uCeHFivQPaxD",
        "outputId": "aa07543d-5633-4886-d77d-36b950948724"
      },
      "execution_count": null,
      "outputs": [
        {
          "output_type": "stream",
          "name": "stdout",
          "text": [
            "ANE\n"
          ]
        }
      ]
    },
    {
      "cell_type": "code",
      "source": [
        "print(random_string.lower())"
      ],
      "metadata": {
        "colab": {
          "base_uri": "https://localhost:8080/"
        },
        "id": "E1T6Y98nPjfk",
        "outputId": "39965e5e-95cd-47b5-a2e1-0ed0432ef215"
      },
      "execution_count": null,
      "outputs": [
        {
          "output_type": "stream",
          "name": "stdout",
          "text": [
            "ane\n"
          ]
        }
      ]
    },
    {
      "cell_type": "code",
      "source": [
        "item2 = item()\n",
        "\n",
        "item2.name = \"sheets\"\n",
        "item2.price = 8\n",
        "item2.quantity = 10"
      ],
      "metadata": {
        "id": "l_WempDpP3Ki"
      },
      "execution_count": null,
      "outputs": []
    },
    {
      "cell_type": "code",
      "source": [
        "class item:        # item = function                 # calculate_total_price = method\n",
        "  def calculate_total_price(self):                     # self means the first argument will be the method itself\n",
        "    pass\n"
      ],
      "metadata": {
        "id": "V__ZbA4uQNQE"
      },
      "execution_count": null,
      "outputs": []
    },
    {
      "cell_type": "code",
      "source": [
        "class item:\n",
        "  def calculate_total_price(self, x, y):\n",
        "    return (x*y)\n",
        "\n",
        "item1 = item()\n",
        "\n",
        "item1.name = \"book\"\n",
        "item1.price = 50\n",
        "item1.quantity = 4\n",
        "\n",
        "print(item1.calculate_total_price(item1.price, item1.quantity))"
      ],
      "metadata": {
        "colab": {
          "base_uri": "https://localhost:8080/"
        },
        "id": "skFH-tgLROIV",
        "outputId": "094d69c8-a5ea-4859-bcd1-46e4aded5c66"
      },
      "execution_count": null,
      "outputs": [
        {
          "output_type": "stream",
          "name": "stdout",
          "text": [
            "200\n"
          ]
        }
      ]
    },
    {
      "cell_type": "code",
      "source": [
        "class item:\n",
        "  def __init__(self, name):\n",
        "    print(\"an instance created: {name}\")\n",
        "    self.name = name\n",
        "  def calculate_total_price(self, x,y):\n",
        "    return (x*y)\n",
        "\n",
        "item1 = item(\"phone\")\n",
        "\n",
        "item1.price = 50\n",
        "item1.quantity = 4\n",
        "\n",
        "print(item1.name)"
      ],
      "metadata": {
        "colab": {
          "base_uri": "https://localhost:8080/"
        },
        "id": "llVeX4phEeVJ",
        "outputId": "672425ea-e661-47b8-9088-86a58111e343"
      },
      "execution_count": null,
      "outputs": [
        {
          "output_type": "stream",
          "name": "stdout",
          "text": [
            "an instance created: {name}\n",
            "phone\n"
          ]
        }
      ]
    },
    {
      "cell_type": "code",
      "source": [
        "class item:\n",
        "  def __init__(self, name, price, quantity):\n",
        "    print(\"an instance created: {name}\")\n",
        "    self.name = name\n",
        "    print(\"an instance created: {name}\")\n",
        "    self.price = price\n",
        "    print(\"an instance created: {name}\")\n",
        "    self.quantity = quantity\n",
        "\n",
        "  def calculate_total_price(self, x,y):\n",
        "    return (x*y)\n",
        "\n",
        "item1 = item(\"phone\", 50, 4)\n",
        "\n",
        "\n",
        "print(item1.name)\n",
        "print(item1.price)\n",
        "print(item1.quantity)"
      ],
      "metadata": {
        "colab": {
          "base_uri": "https://localhost:8080/"
        },
        "id": "wJ32To6LF9hz",
        "outputId": "11b58e3b-0d67-4842-9586-26f381a0a9d7"
      },
      "execution_count": null,
      "outputs": [
        {
          "output_type": "stream",
          "name": "stdout",
          "text": [
            "an instance created: {name}\n",
            "an instance created: {name}\n",
            "an instance created: {name}\n",
            "phone\n",
            "50\n",
            "4\n"
          ]
        }
      ]
    },
    {
      "cell_type": "code",
      "source": [
        "# to assume we dont know quantity we put it as 0 initially\n",
        "\n",
        "class item:\n",
        "  def __init__(self, name, price, quantity = 0):\n",
        "    print(\"an instance created: {name}\")\n",
        "    self.name = name\n",
        "    print(\"an instance created: {name}\")\n",
        "    self.price = price\n",
        "    print(\"an instance created: {name}\")\n",
        "    self.quantity = quantity\n",
        "\n",
        "  def calculate_total_price(self, x,y):\n",
        "    return (x*y)\n",
        "\n",
        "item1 = item(\"phone\", 50)\n",
        "\n",
        "\n",
        "print(item1.name)\n",
        "print(item1.price)\n",
        "print(item1.quantity)"
      ],
      "metadata": {
        "colab": {
          "base_uri": "https://localhost:8080/"
        },
        "id": "Tn_Kde-JGsTA",
        "outputId": "67214c90-dd96-42e6-9c41-c84d8e3b1c25"
      },
      "execution_count": null,
      "outputs": [
        {
          "output_type": "stream",
          "name": "stdout",
          "text": [
            "an instance created: {name}\n",
            "an instance created: {name}\n",
            "an instance created: {name}\n",
            "phone\n",
            "50\n",
            "0\n"
          ]
        }
      ]
    },
    {
      "cell_type": "code",
      "source": [
        "class item:\n",
        "  def __init__(self, name, price, quantity):\n",
        "    print(\"an instance created: {name}\")\n",
        "    self.name = name\n",
        "    print(\"an instance created: {name}\")\n",
        "    self.price = price\n",
        "    print(\"an instance created: {name}\")\n",
        "    self.quantity = quantity\n",
        "\n",
        "  def calculate_total_price(self, x,y):\n",
        "    return (x*y)\n",
        "\n",
        "item1 = item(\"phone\", \"50\", 4)\n",
        "\n",
        "\n",
        "print(item1.name)\n",
        "print(item1.price)\n",
        "print(item1.quantity)"
      ],
      "metadata": {
        "colab": {
          "base_uri": "https://localhost:8080/"
        },
        "id": "sRXC5ZkSHrNe",
        "outputId": "0314cf40-a584-4fc2-c0e7-24a62ab853a1"
      },
      "execution_count": null,
      "outputs": [
        {
          "output_type": "stream",
          "name": "stdout",
          "text": [
            "an instance created: {name}\n",
            "an instance created: {name}\n",
            "an instance created: {name}\n",
            "phone\n",
            "50\n",
            "4\n"
          ]
        }
      ]
    },
    {
      "cell_type": "code",
      "source": [
        "class item:\n",
        "  def __init__(self, name:str, price, quantity):\n",
        "    print(\"an instance created: {name}\")\n",
        "    self.name = name\n",
        "    print(\"an instance created: {name}\")\n",
        "    self.price = price\n",
        "    print(\"an instance created: {name}\")\n",
        "    self.quantity = quantity\n",
        "\n",
        "  def calculate_total_price(self, x,y):\n",
        "    return (x*y)\n",
        "\n",
        "item1 = item(\"phone\", 50, 4)\n",
        "\n",
        "\n",
        "print(item1.name)\n",
        "print(item1.price)\n",
        "print(item1.quantity)"
      ],
      "metadata": {
        "id": "blJQPWENHzyX",
        "outputId": "7b1baddc-5605-41aa-e727-2140c1c96e90",
        "colab": {
          "base_uri": "https://localhost:8080/"
        }
      },
      "execution_count": null,
      "outputs": [
        {
          "output_type": "stream",
          "name": "stdout",
          "text": [
            "an instance created: {name}\n",
            "an instance created: {name}\n",
            "an instance created: {name}\n",
            "phone\n",
            "50\n",
            "4\n"
          ]
        }
      ]
    },
    {
      "cell_type": "code",
      "source": [
        "\n",
        "# to add pay rates after discount of 30 %\n",
        "\n",
        "class item:\n",
        "  pay_rate = 0.7\n",
        "  def __init__(self, name:str, price, quantity):\n",
        "    self.name = name\n",
        "    self.price = price\n",
        "    self.quantity = quantity\n",
        "\n",
        "  def calculate_total_price(self, x,y):\n",
        "    return (x*y)\n",
        "\n",
        "item1 = item(\"phone\", 50, 4)\n",
        "\n",
        "print(item.pay_rate)"
      ],
      "metadata": {
        "colab": {
          "base_uri": "https://localhost:8080/"
        },
        "id": "zD8IqLcAtp7-",
        "outputId": "361c86de-9e3a-4cb8-84ef-96f84cadf9ad"
      },
      "execution_count": null,
      "outputs": [
        {
          "output_type": "stream",
          "name": "stdout",
          "text": [
            "0.7\n"
          ]
        }
      ]
    },
    {
      "cell_type": "code",
      "source": [
        "print(item1.pay_rate)"
      ],
      "metadata": {
        "colab": {
          "base_uri": "https://localhost:8080/"
        },
        "id": "XQW-VEE9uPrZ",
        "outputId": "f2b137ca-afa2-47f5-d637-eaa7c1af8f41"
      },
      "execution_count": null,
      "outputs": [
        {
          "output_type": "stream",
          "name": "stdout",
          "text": [
            "0.7\n"
          ]
        }
      ]
    },
    {
      "cell_type": "code",
      "source": [
        "print(item.__dict__)   # prints all the attributes for class level"
      ],
      "metadata": {
        "colab": {
          "base_uri": "https://localhost:8080/"
        },
        "id": "rWDDMwbtuWQQ",
        "outputId": "94425010-aadf-453f-985e-b415b0aa9efc"
      },
      "execution_count": null,
      "outputs": [
        {
          "output_type": "stream",
          "name": "stdout",
          "text": [
            "{'__module__': '__main__', 'pay_rate': 0.7, '__init__': <function item.__init__ at 0x7edb98a84af0>, 'calculate_total_price': <function item.calculate_total_price at 0x7edb98a84820>, '__dict__': <attribute '__dict__' of 'item' objects>, '__weakref__': <attribute '__weakref__' of 'item' objects>, '__doc__': None}\n"
          ]
        }
      ]
    },
    {
      "cell_type": "code",
      "source": [
        "print(item1.__dict__)  # it prints all the attributes for instance level\n",
        "\n",
        "# both methods here are useful for debugging purpose as they have tier own apeciality"
      ],
      "metadata": {
        "colab": {
          "base_uri": "https://localhost:8080/"
        },
        "id": "6F-QjurQuvQP",
        "outputId": "19e84b44-be62-4431-e4b7-e076a7049b19"
      },
      "execution_count": null,
      "outputs": [
        {
          "output_type": "stream",
          "name": "stdout",
          "text": [
            "{'name': 'phone', 'price': 50, 'quantity': 4}\n"
          ]
        }
      ]
    },
    {
      "cell_type": "code",
      "source": [
        "# applying discount to the price attribute\n",
        "class item:\n",
        "  pay_rate = 0.7\n",
        "  def __init__(self, name:str, price, quantity):\n",
        "    self.name = name\n",
        "    self.price = price\n",
        "    self.quantity = quantity\n",
        "\n",
        "  def calculate_total_price(self, x,y):\n",
        "    return (x*y)\n",
        "\n",
        "  def apply_discount(self):\n",
        "    self.price = self.price * item.pay_rate\n",
        "\n",
        "item1 = item(\"phone\", 50, 4)\n",
        "\n",
        "item1.apply_discount()\n",
        "\n",
        "print(item1.price)"
      ],
      "metadata": {
        "colab": {
          "base_uri": "https://localhost:8080/"
        },
        "id": "bU-MkNT2vaB0",
        "outputId": "99ff9730-9773-4027-ad9a-11310f676004"
      },
      "execution_count": null,
      "outputs": [
        {
          "output_type": "stream",
          "name": "stdout",
          "text": [
            "35.0\n"
          ]
        }
      ]
    }
  ]
}